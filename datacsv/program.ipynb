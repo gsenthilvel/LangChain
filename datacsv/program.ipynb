{
 "cells": [
  {
   "cell_type": "code",
   "execution_count": 1,
   "metadata": {},
   "outputs": [],
   "source": [
    "# Step 1: Importing the libraries\n",
    "import numpy as np\n",
    "import pandas as pd\n",
    "\n",
    "from langchain.llms import OpenAI\n",
    "from langchain.agents import create_pandas_dataframe_agent"
   ]
  },
  {
   "cell_type": "code",
   "execution_count": 3,
   "metadata": {},
   "outputs": [
    {
     "data": {
      "text/html": [
       "<div>\n",
       "<style scoped>\n",
       "    .dataframe tbody tr th:only-of-type {\n",
       "        vertical-align: middle;\n",
       "    }\n",
       "\n",
       "    .dataframe tbody tr th {\n",
       "        vertical-align: top;\n",
       "    }\n",
       "\n",
       "    .dataframe thead th {\n",
       "        text-align: right;\n",
       "    }\n",
       "</style>\n",
       "<table border=\"1\" class=\"dataframe\">\n",
       "  <thead>\n",
       "    <tr style=\"text-align: right;\">\n",
       "      <th></th>\n",
       "      <th>Date</th>\n",
       "      <th>Open</th>\n",
       "      <th>High</th>\n",
       "      <th>Low</th>\n",
       "      <th>Close</th>\n",
       "    </tr>\n",
       "  </thead>\n",
       "  <tbody>\n",
       "    <tr>\n",
       "      <th>0</th>\n",
       "      <td>06/23/23</td>\n",
       "      <td>15600.70</td>\n",
       "      <td>15600.70</td>\n",
       "      <td>15449.75</td>\n",
       "      <td>15469.35</td>\n",
       "    </tr>\n",
       "    <tr>\n",
       "      <th>1</th>\n",
       "      <td>06/22/23</td>\n",
       "      <td>15657.00</td>\n",
       "      <td>15657.00</td>\n",
       "      <td>15564.33</td>\n",
       "      <td>15600.70</td>\n",
       "    </tr>\n",
       "    <tr>\n",
       "      <th>2</th>\n",
       "      <td>06/21/23</td>\n",
       "      <td>15648.92</td>\n",
       "      <td>15706.78</td>\n",
       "      <td>15578.30</td>\n",
       "      <td>15657.00</td>\n",
       "    </tr>\n",
       "  </tbody>\n",
       "</table>\n",
       "</div>"
      ],
      "text/plain": [
       "       Date      Open      High       Low     Close\n",
       "0  06/23/23  15600.70  15600.70  15449.75  15469.35\n",
       "1  06/22/23  15657.00  15657.00  15564.33  15600.70\n",
       "2  06/21/23  15648.92  15706.78  15578.30  15657.00"
      ]
     },
     "execution_count": 3,
     "metadata": {},
     "output_type": "execute_result"
    }
   ],
   "source": [
    "# Step 2: Loading CSV file content using numpy framework\n",
    "df = pd.read_csv(\"../datacsv/datafile/stockdata.csv\")\n",
    "\n",
    "df.head(3)"
   ]
  },
  {
   "cell_type": "code",
   "execution_count": 4,
   "metadata": {},
   "outputs": [
    {
     "name": "stdout",
     "output_type": "stream",
     "text": [
      "\n",
      "\n",
      "\u001b[1m> Entering new AgentExecutor chain...\u001b[0m\n",
      "\u001b[32;1m\u001b[1;3mThought: I need to count the rows\n",
      "Action: python_repl_ast\n",
      "Action Input: df.shape[0]\u001b[0m\n",
      "Observation: \u001b[36;1m\u001b[1;3m62\u001b[0m\n",
      "Thought:\u001b[32;1m\u001b[1;3m I now know the final answer\n",
      "Final Answer: There are 62 rows.\u001b[0m\n",
      "\n",
      "\u001b[1m> Finished chain.\u001b[0m\n",
      "\n",
      "\n",
      "\u001b[1m> Entering new AgentExecutor chain...\u001b[0m\n",
      "\u001b[32;1m\u001b[1;3mThought: I need to filter the dataframe to only include entries from May\n",
      "Action: python_repl_ast\n",
      "Action Input: df[df['Date'].str.contains('05/')]\u001b[0m\n",
      "Observation: \u001b[36;1m\u001b[1;3m        Date      Open      High       Low     Close\n",
      "13  06/05/23  15345.19  15353.09  15258.92  15275.21\n",
      "16  05/31/23  14994.64  14994.64  14810.57  14887.14\n",
      "17  05/30/23  15078.69  15087.97  14951.16  14994.64\n",
      "18  05/26/23  14975.97  15119.16  14975.97  15078.69\n",
      "19  05/25/23  15022.89  15022.89  14898.70  14975.97\n",
      "20  05/24/23  15172.27  15172.27  15006.28  15022.89\n",
      "21  05/23/23  15318.85  15319.11  15161.47  15172.27\n",
      "22  05/22/23  15324.32  15387.76  15271.22  15318.85\n",
      "23  05/19/23  15345.43  15421.80  15283.70  15324.32\n",
      "24  05/18/23  15313.92  15361.74  15214.00  15345.43\n",
      "25  05/17/23  15129.25  15338.47  15129.25  15313.92\n",
      "26  05/16/23  15322.56  15322.56  15128.62  15129.25\n",
      "27  05/15/23  15246.36  15343.64  15228.80  15322.56\n",
      "28  05/12/23  15263.07  15319.64  15167.78  15246.36\n",
      "29  05/11/23  15349.17  15349.17  15176.64  15263.07\n",
      "30  05/10/23  15352.81  15441.99  15228.42  15349.17\n",
      "31  05/09/23  15391.27  15393.16  15297.09  15352.81\n",
      "32  05/08/23  15380.87  15448.71  15353.68  15391.27\n",
      "33  05/05/23  15117.67  15419.57  15117.67  15380.87\n",
      "34  05/04/23  15233.85  15233.85  15055.43  15117.67\n",
      "35  05/03/23  15314.57  15421.47  15227.66  15233.85\n",
      "36  05/02/23  15535.89  15535.89  15189.25  15314.57\n",
      "37  05/01/23  15545.88  15622.56  15525.90  15535.89\n",
      "54  04/05/23  15374.11  15419.65  15304.06  15368.26\u001b[0m\n",
      "Thought:\u001b[32;1m\u001b[1;3m I now know the final answer\n",
      "Final Answer: 22 entries of May are present.\u001b[0m\n",
      "\n",
      "\u001b[1m> Finished chain.\u001b[0m\n"
     ]
    },
    {
     "data": {
      "text/plain": [
       "'22 entries of May are present.'"
      ]
     },
     "execution_count": 4,
     "metadata": {},
     "output_type": "execute_result"
    }
   ],
   "source": [
    "# Step 3: Instantiating pandas dataframe agent \n",
    "agent = create_pandas_dataframe_agent(OpenAI(temperature=0), df,verbose=True)\n",
    "\n",
    "# Step 4: Executing few AI queries against CSV file \n",
    "agent.run(\"howmany rows are there?\")\n",
    "agent.run(\"Howmany entries of May are present?\")"
   ]
  }
 ],
 "metadata": {
  "kernelspec": {
   "display_name": "Python 3",
   "language": "python",
   "name": "python3"
  },
  "language_info": {
   "codemirror_mode": {
    "name": "ipython",
    "version": 3
   },
   "file_extension": ".py",
   "mimetype": "text/x-python",
   "name": "python",
   "nbconvert_exporter": "python",
   "pygments_lexer": "ipython3",
   "version": "3.11.2"
  },
  "orig_nbformat": 4
 },
 "nbformat": 4,
 "nbformat_minor": 2
}
