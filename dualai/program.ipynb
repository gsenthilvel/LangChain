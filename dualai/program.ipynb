{
 "cells": [
  {
   "cell_type": "code",
   "execution_count": 1,
   "metadata": {},
   "outputs": [],
   "source": [
    "# Step 1: Importing the libraries\n",
    "from langchain.llms import OpenAI, HuggingFaceHub\n",
    "\n",
    "# Step 2: Loading the environment variables\n",
    "import os\n",
    "my_ai_key = os.getenv('OPENAI_API_KEY')\n",
    "my_hugg_key = os.getenv('HUGGINGFACEHUB_API_TOKEN')"
   ]
  },
  {
   "cell_type": "code",
   "execution_count": 2,
   "metadata": {},
   "outputs": [],
   "source": [
    "# Step 3: Creating the common query to be used\n",
    "input_text = \"Who is Indira Gandhi?\""
   ]
  },
  {
   "cell_type": "code",
   "execution_count": 3,
   "metadata": {},
   "outputs": [
    {
     "name": "stdout",
     "output_type": "stream",
     "text": [
      "\n",
      "\n",
      "Indira Gandhi (1917-1984) was an Indian stateswoman and the first and only female Prime Minister of India. She served as Prime Minister from 1966 to 1977 and again from 1980 until her assassination in 1984. She was a central figure of the Indian National Congress party, and was known for her political ruthlessness and unprecedented centralisation of power. She is considered one of the most powerful female leaders of the 20th century.\n"
     ]
    }
   ],
   "source": [
    "# Step 4: First LLM - OpenAI integration\n",
    "llm_1 = OpenAI(model_name='text-davinci-003')\n",
    "\n",
    "llm_1_output = llm_1(input_text)\n",
    "print(llm_1_output)"
   ]
  },
  {
   "cell_type": "code",
   "execution_count": 4,
   "metadata": {},
   "outputs": [
    {
     "name": "stderr",
     "output_type": "stream",
     "text": [
      "c:\\Python311\\Lib\\site-packages\\tqdm\\auto.py:21: TqdmWarning: IProgress not found. Please update jupyter and ipywidgets. See https://ipywidgets.readthedocs.io/en/stable/user_install.html\n",
      "  from .autonotebook import tqdm as notebook_tqdm\n"
     ]
    },
    {
     "name": "stdout",
     "output_type": "stream",
     "text": [
      "nanda gandhi\n"
     ]
    }
   ],
   "source": [
    "# Step 5: Second LLM - HuggingFace integration\n",
    "llm_2 = HuggingFaceHub(\n",
    "    repo_id=\"google/flan-t5-base\",\n",
    "    model_kwargs={\"temperature\":0.7, \"max_length\":64},\n",
    "    verbose=True\n",
    ")\n",
    "\n",
    "llm_2_output = llm_2(input_text)\n",
    "print(llm_2_output)\n"
   ]
  }
 ],
 "metadata": {
  "kernelspec": {
   "display_name": "Python 3",
   "language": "python",
   "name": "python3"
  },
  "language_info": {
   "codemirror_mode": {
    "name": "ipython",
    "version": 3
   },
   "file_extension": ".py",
   "mimetype": "text/x-python",
   "name": "python",
   "nbconvert_exporter": "python",
   "pygments_lexer": "ipython3",
   "version": "3.11.2"
  },
  "orig_nbformat": 4
 },
 "nbformat": 4,
 "nbformat_minor": 2
}
