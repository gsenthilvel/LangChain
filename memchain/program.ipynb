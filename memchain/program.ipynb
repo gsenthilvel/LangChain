{
 "cells": [
  {
   "cell_type": "code",
   "execution_count": 1,
   "metadata": {},
   "outputs": [],
   "source": [
    "# Step 1: Importing the libraries\n",
    "from langchain import OpenAI, ConversationChain\n",
    "from langchain.llms import OpenAI\n",
    "\n",
    "# Step 2: Loading the environment variables\n",
    "import os\n",
    "my_ai_key = os.getenv('OPENAI_API_KEY')"
   ]
  },
  {
   "cell_type": "code",
   "execution_count": 2,
   "metadata": {},
   "outputs": [],
   "source": [
    "# Step 3: Setting up OpenAI integration\n",
    "llm_ai = OpenAI(model_name='text-davinci-003')"
   ]
  },
  {
   "cell_type": "code",
   "execution_count": 3,
   "metadata": {},
   "outputs": [],
   "source": [
    "# Step 4: Instantiating in-memory ConversationChain \n",
    "mem_chain = ConversationChain(\n",
    "    llm=llm_ai,\n",
    "    verbose=True\n",
    ")"
   ]
  },
  {
   "cell_type": "code",
   "execution_count": 4,
   "metadata": {},
   "outputs": [
    {
     "name": "stdout",
     "output_type": "stream",
     "text": [
      "\n",
      "\n",
      "\u001b[1m> Entering new ConversationChain chain...\u001b[0m\n",
      "Prompt after formatting:\n",
      "\u001b[32;1m\u001b[1;3mThe following is a friendly conversation between a human and an AI. The AI is talkative and provides lots of specific details from its context. If the AI does not know the answer to a question, it truthfully says it does not know.\n",
      "\n",
      "Current conversation:\n",
      "\n",
      "Human: Hi, I'm Ganesan Senthilvel from Princeton, NJ\n",
      "AI:\u001b[0m\n",
      "\n",
      "\u001b[1m> Finished chain.\u001b[0m\n",
      "\n",
      "\n",
      "\u001b[1m> Entering new ConversationChain chain...\u001b[0m\n",
      "Prompt after formatting:\n",
      "\u001b[32;1m\u001b[1;3mThe following is a friendly conversation between a human and an AI. The AI is talkative and provides lots of specific details from its context. If the AI does not know the answer to a question, it truthfully says it does not know.\n",
      "\n",
      "Current conversation:\n",
      "Human: Hi, I'm Ganesan Senthilvel from Princeton, NJ\n",
      "AI:  Hi Ganesan! It's nice to meet you. I understand that you are from Princeton, NJ. Can you tell me a bit about the city?\n",
      "Human: Howlong will it take to finish PhD in Computer Science?\n",
      "AI:\u001b[0m\n",
      "\n",
      "\u001b[1m> Finished chain.\u001b[0m\n",
      "\n",
      "\n",
      "\u001b[1m> Entering new ConversationChain chain...\u001b[0m\n",
      "Prompt after formatting:\n",
      "\u001b[32;1m\u001b[1;3mThe following is a friendly conversation between a human and an AI. The AI is talkative and provides lots of specific details from its context. If the AI does not know the answer to a question, it truthfully says it does not know.\n",
      "\n",
      "Current conversation:\n",
      "Human: Hi, I'm Ganesan Senthilvel from Princeton, NJ\n",
      "AI:  Hi Ganesan! It's nice to meet you. I understand that you are from Princeton, NJ. Can you tell me a bit about the city?\n",
      "Human: Howlong will it take to finish PhD in Computer Science?\n",
      "AI:  That's a great question! The answer depends on a number of factors, such as the university you attend, the specific program requirements, and the amount of time you can dedicate to your studies. Generally, a PhD in Computer Science can take anywhere from 3-7 years to complete.\n",
      "Human: What is the longest beach in the world?\n",
      "AI:\u001b[0m\n",
      "\n",
      "\u001b[1m> Finished chain.\u001b[0m\n",
      "\n",
      "\n",
      "\u001b[1m> Entering new ConversationChain chain...\u001b[0m\n",
      "Prompt after formatting:\n",
      "\u001b[32;1m\u001b[1;3mThe following is a friendly conversation between a human and an AI. The AI is talkative and provides lots of specific details from its context. If the AI does not know the answer to a question, it truthfully says it does not know.\n",
      "\n",
      "Current conversation:\n",
      "Human: Hi, I'm Ganesan Senthilvel from Princeton, NJ\n",
      "AI:  Hi Ganesan! It's nice to meet you. I understand that you are from Princeton, NJ. Can you tell me a bit about the city?\n",
      "Human: Howlong will it take to finish PhD in Computer Science?\n",
      "AI:  That's a great question! The answer depends on a number of factors, such as the university you attend, the specific program requirements, and the amount of time you can dedicate to your studies. Generally, a PhD in Computer Science can take anywhere from 3-7 years to complete.\n",
      "Human: What is the longest beach in the world?\n",
      "AI:  The longest beach in the world is Praia do Cassino Beach in Brazil, which stretches for over 200 miles.\n",
      "Human: What is my name?\n",
      "AI:\u001b[0m\n",
      "\n",
      "\u001b[1m> Finished chain.\u001b[0m\n"
     ]
    },
    {
     "data": {
      "text/plain": [
       "\" I don't know your name. Could you tell me what it is?\""
      ]
     },
     "execution_count": 4,
     "metadata": {},
     "output_type": "execute_result"
    }
   ],
   "source": [
    "# Step 5: Adding a conversation to the chain\n",
    "mem_chain.predict(input=\"Hi, I'm Ganesan Senthilvel from Princeton, NJ\")\n",
    "mem_chain.predict(input=\"Howlong will it take to finish PhD in Computer Science?\")\n",
    "mem_chain.predict(input=\"What is the longest beach in the world?\")\n",
    "mem_chain.predict(input=\"What is my name?\")"
   ]
  }
 ],
 "metadata": {
  "kernelspec": {
   "display_name": "Python 3",
   "language": "python",
   "name": "python3"
  },
  "language_info": {
   "codemirror_mode": {
    "name": "ipython",
    "version": 3
   },
   "file_extension": ".py",
   "mimetype": "text/x-python",
   "name": "python",
   "nbconvert_exporter": "python",
   "pygments_lexer": "ipython3",
   "version": "3.11.2"
  },
  "orig_nbformat": 4
 },
 "nbformat": 4,
 "nbformat_minor": 2
}
