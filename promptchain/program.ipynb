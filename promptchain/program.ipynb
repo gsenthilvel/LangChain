{
 "cells": [
  {
   "cell_type": "code",
   "execution_count": 1,
   "metadata": {},
   "outputs": [],
   "source": [
    "# Step 1: Importing the libraries\n",
    "from langchain import PromptTemplate, LLMChain\n",
    "from langchain.llms import OpenAI\n",
    "from langchain.chains import SimpleSequentialChain\n",
    "\n",
    "# Step 2: Loading the environment variables\n",
    "import os\n",
    "my_ai_key = os.getenv('OPENAI_API_KEY')"
   ]
  },
  {
   "cell_type": "code",
   "execution_count": 2,
   "metadata": {},
   "outputs": [],
   "source": [
    "# Step 3: OpenAI LLM using text-davinci-003 model\n",
    "llm_ai = OpenAI(model_name='text-davinci-003')"
   ]
  },
  {
   "cell_type": "code",
   "execution_count": 3,
   "metadata": {},
   "outputs": [],
   "source": [
    "# Step 4: Setting up the prompt template with 4 chains \n",
    "\n",
    "prompt_1 = PromptTemplate(\n",
    "    template=\"What is the {type} democracy country in the world?\",\n",
    "    input_variables=[\"type\"],\n",
    ")\n",
    "chain_1 = LLMChain(llm=llm_ai, prompt=prompt_1)\n",
    "\n",
    "prompt_2 = PromptTemplate(\n",
    "    template=\"Who is the first president of {country}?\",\n",
    "    input_variables=[\"country\"],\n",
    ")\n",
    "chain_2 = LLMChain(llm=llm_ai, prompt=prompt_2)\n",
    "\n",
    "prompt_3 = PromptTemplate(\n",
    "    template=\"When was {input_president} born?\",\n",
    "    input_variables=[\"input_president\"],\n",
    ")\n",
    "chain_3 = LLMChain(llm=llm_ai, prompt=prompt_3)\n",
    "\n",
    "prompt_4 = PromptTemplate(\n",
    "    template=\"Where was {input_president} born?\",\n",
    "    input_variables=[\"input_president\"],\n",
    ")\n",
    "chain_4 = LLMChain(llm=llm_ai, prompt=prompt_4)"
   ]
  },
  {
   "cell_type": "code",
   "execution_count": 4,
   "metadata": {},
   "outputs": [
    {
     "name": "stdout",
     "output_type": "stream",
     "text": [
      "\n",
      "\n",
      "\u001b[1m> Entering new SimpleSequentialChain chain...\u001b[0m\n",
      "\u001b[36;1m\u001b[1;3m\n",
      "\n",
      "India is the largest democracy country in the world. It is a federal republic comprising of 29 states and seven union territories. It has the second largest population in the world, and is the world's most populous democracy.\u001b[0m\n",
      "\u001b[33;1m\u001b[1;3m\n",
      "\n",
      "The first President of India was Dr. Rajendra Prasad, who served from 1950 to 1962. He was the only President to be elected twice to the highest office in the country.\u001b[0m\n",
      "\u001b[38;5;200m\u001b[1;3m\n",
      "\n",
      "Dr. Rajendra Prasad was born on 3 December 1884 in Siwan district of Bihar, India.\u001b[0m\n",
      "\u001b[32;1m\u001b[1;3m\n",
      "\n",
      "Siwan district of Bihar, India\u001b[0m\n",
      "\n",
      "\u001b[1m> Finished chain.\u001b[0m\n",
      "\n",
      "\n",
      "Siwan district of Bihar, India\n"
     ]
    }
   ],
   "source": [
    "# Step 5: Configuring in a sequential chain\n",
    "full_chain = SimpleSequentialChain(\n",
    "    chains=[chain_1, chain_2, chain_3, chain_4],\n",
    "    verbose=True\n",
    ")\n",
    "# Step 6: Displaying the executed chains results\n",
    "print(full_chain.run(\"largest\"))"
   ]
  }
 ],
 "metadata": {
  "kernelspec": {
   "display_name": "Python 3",
   "language": "python",
   "name": "python3"
  },
  "language_info": {
   "codemirror_mode": {
    "name": "ipython",
    "version": 3
   },
   "file_extension": ".py",
   "mimetype": "text/x-python",
   "name": "python",
   "nbconvert_exporter": "python",
   "pygments_lexer": "ipython3",
   "version": "3.11.2"
  },
  "orig_nbformat": 4
 },
 "nbformat": 4,
 "nbformat_minor": 2
}
