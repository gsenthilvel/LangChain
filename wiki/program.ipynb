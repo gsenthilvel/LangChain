{
 "cells": [
  {
   "cell_type": "code",
   "execution_count": 8,
   "metadata": {},
   "outputs": [],
   "source": [
    "# Step 1: Importing the libraries\n",
    "from langchain.retrievers import WikipediaRetriever\n",
    "from langchain.chains import ConversationalRetrievalChain\n",
    "from langchain.chat_models import ChatOpenAI\n"
   ]
  },
  {
   "cell_type": "code",
   "execution_count": 9,
   "metadata": {},
   "outputs": [],
   "source": [
    "# Step 2: Instantiating Wikipedia Retriever\n",
    "my_retriever = WikipediaRetriever()"
   ]
  },
  {
   "cell_type": "code",
   "execution_count": 10,
   "metadata": {},
   "outputs": [],
   "source": [
    "# Step 3: Getting relevant info from Wikipedia\n",
    "docs = my_retriever.get_relevant_documents(query=\"K.Kamaraj\")"
   ]
  },
  {
   "cell_type": "code",
   "execution_count": 11,
   "metadata": {},
   "outputs": [
    {
     "data": {
      "text/plain": [
       "{'title': 'K. Kamaraj',\n",
       " 'summary': 'Kumaraswami Kamaraj (15 July 1903 – 2 October 1975), popularly known as Kamarajar was an Indian independence activist and politician who served as the Chief Minister of Madras State (Tamil Nadu) from 13 April 1954 to 2 October 1963. He was the founder and the president of the Indian National Congress (Organisation), widely acknowledged as the \"Kingmaker\" in Indian politics during the 1960s. He also served as the president of the Indian National Congress for two terms i.e. four years between 1964–1967 and was responsible for the elevation of Lal Bahadur Shastri to the position of Prime Minister of India after Nehru\\'s death and Indira Gandhi after Shastri\\'s death. He was the Member of Parliament, Lok Sabha during 1952–1954 and 1969–1975. He was known for his simplicity and integrity. He played a major role in developing the infrastructure of the Madras state and worked to improve the quality of life of the needy and the disadvantaged.As the president of the INC, he was instrumental in steering the party after the death of Jawaharlal Nehru. As the chief minister of Madras, he was responsible for bringing free education to the disadvantaged and introduced the free Midday Meal Scheme while he himself did not complete schooling. He was awarded with India\\'s highest civilian honour, the Bharat Ratna, posthumously in 1976. US Vice-president Hubert Humphrey, referred to Kamaraj as \"one of the greatest political leaders in all the countries of the free world\"  in January 1966.',\n",
       " 'source': 'https://en.wikipedia.org/wiki/K._Kamaraj'}"
      ]
     },
     "execution_count": 11,
     "metadata": {},
     "output_type": "execute_result"
    }
   ],
   "source": [
    "# Step 4: Printing the meta-information of the response\n",
    "docs[0].metadata  "
   ]
  },
  {
   "cell_type": "code",
   "execution_count": 12,
   "metadata": {},
   "outputs": [
    {
     "data": {
      "text/plain": [
       "'Kumaraswami Kamaraj (15 July 1903 – 2 October 1975), popularly known as Kamarajar was an Indian independence activist and politician who served as the Chief Minister of Madras State (Tamil Nadu) from 13 April 1954 to 2 October 1963. He was the founder and the president of the Indian National Congress (Organisation), widely acknowledged as the \"Kingmaker\" in Indian politics during the 1960s. He also served as the president of the Indian National Congress for two terms i.e. four years between 1964–1967 and was responsible for the elevation of Lal Bahadur Shastri to the position of Prime Minister of India after Nehru\\'s death and Indira Gandhi after Shastri\\'s death. He was the Member of Parliament, Lok Sabha during 1952–1954 and 1969–1975. He was known for his simplicity and integrity. He played a major role in developing the infrastructure of the Madras state and worked to improve the quality of life of the needy and the disadvantaged.As the president of the INC, he was instrumental in steering the party after the death of Jawaharlal Nehru. As the chief minister of Madras, he was responsible for bringing free education to the disadvantaged and introduced the free Midday Meal Scheme while he himself did not complete schooling. He was awarded with India\\'s highest civilian honour, the Bharat Ratna, posthumously in 1976. US Vice-president Hubert Humphrey, referred to Kamaraj as \"one of the greatest political leaders in all the countries of the free world\"  in January 1966.\\n\\n\\n== Early life ==\\nKamaraj was born on 15 July 1903 in Virudhunagar, Tamil Nadu, to Kumaraswami Nadar  and Sivakami Ammal. His name was originally Kamatchi, later changed to Kamarajar. His father Kumaraswami Nadar was a merchant. Kamaraj had a younger sister named  Nagammal. Kamaraj was first enrolled in a traditional school in 1907 and in 1908 he was admitted to Yenadhi Narayana Vidhya Salai. In 1909 Kamaraj was admitted in Virudupatti High School. Kamaraj\\'s father died when he was six years old, his mother was forced to support the family. In 1914 Kamaraj dropped out of school to support his mother.\\n\\n\\n== Politics ==\\nAs a young boy, Kamaraj worked in his uncle\\'s provision shop and during that time he began to attend public meetings and processions about the Indian Home Rule movement. Kamaraj developed an interest in prevailing political conditions by reading newspapers daily. The Jallianwala Bagh massacre was the decisive turning point in his life - he decided to fight for national freedom and to bring an end to foreign rule. In 1920, when he was 18, he became active in politics. He joined Congress as a full-time political worker. In 1921 Kamaraj organised public meetings at Virudhunagar for Congress leaders. He was eager to meet Gandhi, and when Gandhi visited Madurai on 21 September 1921, Kamaraj attended the public meeting and met Gandhi for the first time. He visited villages carrying Congress propaganda.In 1922 Congress boycotted the visit of the Prince of Wales as part of the Non-Cooperation Movement. He came to Madras and took part in the event. In 1923–25 Kamaraj participated in the Nagpur Flag Satyagraha. In 1927, Kamaraj started the Sword Satyagraha in Madras and was chosen to lead the Neil Statue Satyagraha, but this was given up later in view of the Simon Commission boycott.Kamaraj went to jail for two years in June 1930 for participating in the \"Salt Satyagraha\". led by Rajagopalachari at Vedaranyam; he was released before he served the two-year sentence as a result of 1931 Gandhi–Irwin Pact. In 1932, Section 144 was imposed in Madras prohibiting the holding of meetings and organisation of processions against the arrest of Gandhi in Bombay. In Virdhunagar, under Kamaraj\\'s leadership, processions and demonstrations happened every day. Kamaraj was arrested again in January 1932 and sentenced to one year\\'s imprisonment. In 1933 Kamaraj was falsely charged in the Virudhunagar bomb case. Varadarajulu Naidu and George Joseph argued on Kamaraj\\'s behalf and p'"
      ]
     },
     "execution_count": 12,
     "metadata": {},
     "output_type": "execute_result"
    }
   ],
   "source": [
    "# Step 5: Printing the actual content of the response\n",
    "docs[0].page_content  "
   ]
  },
  {
   "cell_type": "code",
   "execution_count": 14,
   "metadata": {},
   "outputs": [],
   "source": [
    "# Step 6: Instantiating Wiki contraversial chain\n",
    "ai_model = ChatOpenAI(model_name=\"gpt-3.5-turbo\")\n",
    "wikichain = ConversationalRetrievalChain.from_llm(\n",
    "    ai_model, \n",
    "    retriever=my_retriever)"
   ]
  },
  {
   "cell_type": "code",
   "execution_count": 15,
   "metadata": {},
   "outputs": [],
   "source": [
    "# Step 7: Adding the list of queries to the chain\n",
    "my_queries = [\n",
    "    \"What is salt march?\",\n",
    "    \"What is the contribution by Mahatma Gandhi?\",\n",
    "]\n",
    "my_chat_list = []"
   ]
  },
  {
   "cell_type": "code",
   "execution_count": 17,
   "metadata": {},
   "outputs": [
    {
     "name": "stdout",
     "output_type": "stream",
     "text": [
      "-> Asked Question?? : What is salt march? \n",
      "\n",
      "## Answer ##: The Salt March, also known as the Salt Satyagraha or Dandi March, was a nonviolent civil disobedience movement led by Mahatma Gandhi in colonial India. It took place from 12 March to 5 April 1930 and was a protest against the British salt monopoly. Gandhi and his followers marched 387 kilometers from Sabarmati Ashram to Dandi, where they broke the British salt laws by making salt from seawater. The march inspired millions of Indians to join the movement and sparked large-scale acts of civil disobedience against the salt laws. \n",
      "\n",
      "-> Asked Question?? : What is the contribution by Mahatma Gandhi? \n",
      "\n",
      "## Answer ##: Mahatma Gandhi played a significant role in organizing and leading the Salt March, also known as the Dandi Salt March, in 1930. The Salt March was a nonviolent protest against the British salt monopoly, which imposed a heavy tax on salt and prohibited Indians from making their own salt. Gandhi and a group of followers walked about 400 kilometers (250 miles) from Sabarmati Ashram to the coastal village of Dandi, where they symbolically made their own salt from seawater. This act of civil disobedience was a powerful demonstration of resistance against British colonial rule. The Salt March gained widespread attention and ignited a wave of protests and civil disobedience throughout India, significantly contributing to the Indian independence movement. \n",
      "\n"
     ]
    }
   ],
   "source": [
    "# Step 8: Printing the request and response list\n",
    "for question in my_queries:\n",
    "    result = wikichain(\n",
    "        {\"question\": question, \n",
    "         \"chat_history\": my_chat_list}\n",
    "         )\n",
    "    my_chat_list.append(\n",
    "        (question, result[\"answer\"])\n",
    "        )\n",
    "    print(f\"-> Asked Question?? : {question} \\n\")\n",
    "    print(f\"## Answer ##: {result['answer']} \\n\")"
   ]
  }
 ],
 "metadata": {
  "kernelspec": {
   "display_name": "Python 3",
   "language": "python",
   "name": "python3"
  },
  "language_info": {
   "codemirror_mode": {
    "name": "ipython",
    "version": 3
   },
   "file_extension": ".py",
   "mimetype": "text/x-python",
   "name": "python",
   "nbconvert_exporter": "python",
   "pygments_lexer": "ipython3",
   "version": "3.11.2"
  },
  "orig_nbformat": 4
 },
 "nbformat": 4,
 "nbformat_minor": 2
}
